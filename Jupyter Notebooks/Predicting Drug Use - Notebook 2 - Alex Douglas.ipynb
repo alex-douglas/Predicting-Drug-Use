{
 "cells": [
  {
   "cell_type": "code",
   "execution_count": 112,
   "metadata": {
    "collapsed": true
   },
   "outputs": [],
   "source": [
    "import pandas as pd\n",
    "import numpy as np\n",
    "import pickle\n",
    "import math\n",
    "import psycopg2\n",
    "import matplotlib.pyplot as plt\n",
    "from sklearn.linear_model import LogisticRegression\n",
    "from sklearn.ensemble import RandomForestClassifier\n",
    "from sklearn.ensemble import GradientBoostingClassifier\n",
    "from sklearn.neighbors import KNeighborsClassifier\n",
    "from sklearn import svm\n",
    "from sklearn import model_selection\n",
    "from sklearn import feature_selection\n",
    "from sklearn import naive_bayes\n",
    "from sklearn import metrics"
   ]
  },
  {
   "cell_type": "code",
   "execution_count": 54,
   "metadata": {
    "collapsed": true
   },
   "outputs": [],
   "source": [
    "%matplotlib inline"
   ]
  },
  {
   "cell_type": "markdown",
   "metadata": {},
   "source": [
    "# Step 1: Load the data from the SQL tables."
   ]
  },
  {
   "cell_type": "code",
   "execution_count": 121,
   "metadata": {},
   "outputs": [],
   "source": [
    "conn = psycopg2.connect(\"dbname='ubuntu' user='ubuntu' host='localhost' password='metis123'\")"
   ]
  },
  {
   "cell_type": "code",
   "execution_count": 134,
   "metadata": {},
   "outputs": [],
   "source": [
    "X = pd.read_sql('SELECT * FROM \"X\"', conn)\n",
    "y = pd.read_sql('SELECT * FROM y', conn)"
   ]
  },
  {
   "cell_type": "code",
   "execution_count": 138,
   "metadata": {},
   "outputs": [],
   "source": [
    "X = X.drop('index', axis=1)"
   ]
  },
  {
   "cell_type": "code",
   "execution_count": 139,
   "metadata": {
    "collapsed": true
   },
   "outputs": [],
   "source": [
    "y = y['DRUG_USER']"
   ]
  },
  {
   "cell_type": "code",
   "execution_count": 140,
   "metadata": {},
   "outputs": [
    {
     "data": {
      "text/plain": [
       "(57146, 109)"
      ]
     },
     "execution_count": 140,
     "metadata": {},
     "output_type": "execute_result"
    }
   ],
   "source": [
    "X.shape"
   ]
  },
  {
   "cell_type": "markdown",
   "metadata": {},
   "source": [
    "# Step 2: Explore model classification options"
   ]
  },
  {
   "cell_type": "markdown",
   "metadata": {},
   "source": [
    "Get a cross validator set up for model exploration"
   ]
  },
  {
   "cell_type": "code",
   "execution_count": 57,
   "metadata": {
    "collapsed": true
   },
   "outputs": [],
   "source": [
    "cross_validator = model_selection.KFold(n_splits=5, shuffle=True, random_state=42)"
   ]
  },
  {
   "cell_type": "markdown",
   "metadata": {},
   "source": [
    "Start model investigation with a random forest classifier. We'll use GridSearchCV to try and find our optimal parameters."
   ]
  },
  {
   "cell_type": "code",
   "execution_count": 58,
   "metadata": {
    "collapsed": true
   },
   "outputs": [],
   "source": [
    "# n_features is number of trees, and more is always better (except when considering time), so use a bunch\n",
    "rf = RandomForestClassifier(n_estimators=150)"
   ]
  },
  {
   "cell_type": "code",
   "execution_count": 59,
   "metadata": {
    "collapsed": true
   },
   "outputs": [],
   "source": [
    "# prioritize f1 score to try and minimize FN and FP, after we find our best model we can adjust the threshold to get\n",
    "# the desired ratio between precision and recall\n",
    "rf_grid = model_selection.GridSearchCV(rf, \n",
    "          param_grid={'max_features': [10, 15, 20], 'criterion': ['gini', 'entropy']},\n",
    "          cv=cross_validator, scoring='f1', n_jobs=-1)"
   ]
  },
  {
   "cell_type": "code",
   "execution_count": 60,
   "metadata": {},
   "outputs": [
    {
     "data": {
      "text/plain": [
       "GridSearchCV(cv=KFold(n_splits=5, random_state=42, shuffle=True),\n",
       "       error_score='raise',\n",
       "       estimator=RandomForestClassifier(bootstrap=True, class_weight=None, criterion='gini',\n",
       "            max_depth=None, max_features='auto', max_leaf_nodes=None,\n",
       "            min_impurity_split=1e-07, min_samples_leaf=1,\n",
       "            min_samples_split=2, min_weight_fraction_leaf=0.0,\n",
       "            n_estimators=150, n_jobs=1, oob_score=False, random_state=None,\n",
       "            verbose=0, warm_start=False),\n",
       "       fit_params={}, iid=True, n_jobs=-1,\n",
       "       param_grid={'max_features': [10, 15, 20], 'criterion': ['gini', 'entropy']},\n",
       "       pre_dispatch='2*n_jobs', refit=True, return_train_score=True,\n",
       "       scoring='f1', verbose=0)"
      ]
     },
     "execution_count": 60,
     "metadata": {},
     "output_type": "execute_result"
    }
   ],
   "source": [
    "rf_grid.fit(X, y)"
   ]
  },
  {
   "cell_type": "code",
   "execution_count": 61,
   "metadata": {},
   "outputs": [
    {
     "name": "stdout",
     "output_type": "stream",
     "text": [
      "{'max_features': 20, 'criterion': 'gini'}\n",
      "0.517926330001\n"
     ]
    }
   ],
   "source": [
    "print(rf_grid.best_params_)\n",
    "print(rf_grid.best_score_)\n",
    "rf_best = rf_grid.best_estimator_"
   ]
  },
  {
   "cell_type": "code",
   "execution_count": 62,
   "metadata": {
    "collapsed": true
   },
   "outputs": [],
   "source": [
    "# since the best max_features was at the top of our range, \n",
    "# re-run GridSearchCV with higher values to see if that improves our model score\n",
    "rf = RandomForestClassifier(n_estimators=150, criterion='gini')\n",
    "rf_grid_2 = model_selection.GridSearchCV(rf, \n",
    "          param_grid={'max_features': [20, 25, 30]},\n",
    "          cv=cross_validator, scoring='f1', n_jobs=-1)"
   ]
  },
  {
   "cell_type": "code",
   "execution_count": 63,
   "metadata": {},
   "outputs": [
    {
     "data": {
      "text/plain": [
       "GridSearchCV(cv=KFold(n_splits=5, random_state=42, shuffle=True),\n",
       "       error_score='raise',\n",
       "       estimator=RandomForestClassifier(bootstrap=True, class_weight=None, criterion='gini',\n",
       "            max_depth=None, max_features='auto', max_leaf_nodes=None,\n",
       "            min_impurity_split=1e-07, min_samples_leaf=1,\n",
       "            min_samples_split=2, min_weight_fraction_leaf=0.0,\n",
       "            n_estimators=150, n_jobs=1, oob_score=False, random_state=None,\n",
       "            verbose=0, warm_start=False),\n",
       "       fit_params={}, iid=True, n_jobs=-1,\n",
       "       param_grid={'max_features': [20, 25, 30]}, pre_dispatch='2*n_jobs',\n",
       "       refit=True, return_train_score=True, scoring='f1', verbose=0)"
      ]
     },
     "execution_count": 63,
     "metadata": {},
     "output_type": "execute_result"
    }
   ],
   "source": [
    "rf_grid_2.fit(X, y)"
   ]
  },
  {
   "cell_type": "code",
   "execution_count": 64,
   "metadata": {},
   "outputs": [
    {
     "name": "stdout",
     "output_type": "stream",
     "text": [
      "{'max_features': 25}\n",
      "0.521593220519\n"
     ]
    }
   ],
   "source": [
    "print(rf_grid_2.best_params_)\n",
    "print(rf_grid_2.best_score_)\n",
    "rf_best = rf_grid_2.best_estimator_"
   ]
  },
  {
   "cell_type": "code",
   "execution_count": 65,
   "metadata": {
    "collapsed": true
   },
   "outputs": [],
   "source": [
    "# since the best max_features was at the top of our range, \n",
    "# re-run GridSearchCV with higher values to see if that improves our model score\n",
    "rf = RandomForestClassifier(n_estimators=150, criterion='gini')\n",
    "rf_grid_3 = model_selection.GridSearchCV(rf, \n",
    "          param_grid={'max_features': [30, 35, 40]},\n",
    "          cv=cross_validator, scoring='f1', n_jobs=-1)"
   ]
  },
  {
   "cell_type": "code",
   "execution_count": 66,
   "metadata": {},
   "outputs": [
    {
     "data": {
      "text/plain": [
       "GridSearchCV(cv=KFold(n_splits=5, random_state=42, shuffle=True),\n",
       "       error_score='raise',\n",
       "       estimator=RandomForestClassifier(bootstrap=True, class_weight=None, criterion='gini',\n",
       "            max_depth=None, max_features='auto', max_leaf_nodes=None,\n",
       "            min_impurity_split=1e-07, min_samples_leaf=1,\n",
       "            min_samples_split=2, min_weight_fraction_leaf=0.0,\n",
       "            n_estimators=150, n_jobs=1, oob_score=False, random_state=None,\n",
       "            verbose=0, warm_start=False),\n",
       "       fit_params={}, iid=True, n_jobs=-1,\n",
       "       param_grid={'max_features': [30, 35, 40]}, pre_dispatch='2*n_jobs',\n",
       "       refit=True, return_train_score=True, scoring='f1', verbose=0)"
      ]
     },
     "execution_count": 66,
     "metadata": {},
     "output_type": "execute_result"
    }
   ],
   "source": [
    "rf_grid_3.fit(X, y)"
   ]
  },
  {
   "cell_type": "code",
   "execution_count": 67,
   "metadata": {},
   "outputs": [
    {
     "name": "stdout",
     "output_type": "stream",
     "text": [
      "{'max_features': 35}\n",
      "0.52504840007\n"
     ]
    }
   ],
   "source": [
    "print(rf_grid_3.best_params_)\n",
    "print(rf_grid_3.best_score_)\n",
    "rf_best = rf_grid_3.best_estimator_"
   ]
  },
  {
   "cell_type": "code",
   "execution_count": 68,
   "metadata": {
    "collapsed": true
   },
   "outputs": [],
   "source": [
    "# since the best max_features was at the top of our range, \n",
    "# re-run GridSearchCV with higher values to see if that improves our model score\n",
    "rf = RandomForestClassifier(n_estimators=150, criterion='gini')\n",
    "rf_grid_4 = model_selection.GridSearchCV(rf, \n",
    "          param_grid={'max_features': [45, 50, 55]},\n",
    "          cv=cross_validator, scoring='f1', n_jobs=-1)"
   ]
  },
  {
   "cell_type": "code",
   "execution_count": 69,
   "metadata": {},
   "outputs": [
    {
     "data": {
      "text/plain": [
       "GridSearchCV(cv=KFold(n_splits=5, random_state=42, shuffle=True),\n",
       "       error_score='raise',\n",
       "       estimator=RandomForestClassifier(bootstrap=True, class_weight=None, criterion='gini',\n",
       "            max_depth=None, max_features='auto', max_leaf_nodes=None,\n",
       "            min_impurity_split=1e-07, min_samples_leaf=1,\n",
       "            min_samples_split=2, min_weight_fraction_leaf=0.0,\n",
       "            n_estimators=150, n_jobs=1, oob_score=False, random_state=None,\n",
       "            verbose=0, warm_start=False),\n",
       "       fit_params={}, iid=True, n_jobs=-1,\n",
       "       param_grid={'max_features': [45, 50, 55]}, pre_dispatch='2*n_jobs',\n",
       "       refit=True, return_train_score=True, scoring='f1', verbose=0)"
      ]
     },
     "execution_count": 69,
     "metadata": {},
     "output_type": "execute_result"
    }
   ],
   "source": [
    "rf_grid_4.fit(X, y)"
   ]
  },
  {
   "cell_type": "code",
   "execution_count": 70,
   "metadata": {},
   "outputs": [
    {
     "name": "stdout",
     "output_type": "stream",
     "text": [
      "{'max_features': 55}\n",
      "0.521612562229\n"
     ]
    }
   ],
   "source": [
    "print(rf_grid_4.best_params_)\n",
    "print(rf_grid_4.best_score_)\n",
    "rf_best = rf_grid_4.best_estimator_"
   ]
  },
  {
   "cell_type": "markdown",
   "metadata": {},
   "source": [
    "Looks like 50 max feature with a gini criterion is our best estimator for random forests. I'll now eliminate the least important features, which may improve other classifier performance, and then see which model performs the best."
   ]
  },
  {
   "cell_type": "code",
   "execution_count": 71,
   "metadata": {},
   "outputs": [
    {
     "data": {
      "text/plain": [
       "[('SERVICE_2', 5.0179454002574449e-05),\n",
       " ('PAROLREL_2', 0.00025243904233516248),\n",
       " ('SPEAKENGL_5', 0.00026791174179161665),\n",
       " ('EDUENROLL_3', 0.00033674685176994648),\n",
       " ('BOOKED_2', 0.00037113390142568491),\n",
       " ('MEDICARE_3', 0.00044112630038415219),\n",
       " ('WRKRSNNOT_2', 0.0004464475279760266),\n",
       " ('WRKRSNNOT_8', 0.00049599741825303808),\n",
       " ('SNRLGSVC_7', 0.00052187252506309179),\n",
       " ('DIFFTHINK_3', 0.00062331830510229519),\n",
       " ('RKFQRSKY_5', 0.00062781514138806444),\n",
       " ('EDUFULPRT_3', 0.00064862262630557106),\n",
       " ('INHOSPYR_2', 0.0006551546319012359),\n",
       " ('IRMARITSTAT_5', 0.00067204786792782916),\n",
       " ('WRKRSNNOT_3', 0.00072937073943314136),\n",
       " ('SPEAKENGL_4', 0.00082373839987620818),\n",
       " ('PRVHLTIN_3', 0.00083810732324415935),\n",
       " ('WRKSTATWK2_10', 0.00088497479661701537),\n",
       " ('WRKRSNNOT_4', 0.0009541760682850079),\n",
       " ('CAIDCHIP_3', 0.0010887270368692421),\n",
       " ('HLCLAST_6', 0.001119356829708528),\n",
       " ('NOBOOKY2_3', 0.0012345358524100943),\n",
       " ('WRKRSNJOB_5', 0.0012388562310001623),\n",
       " ('WRKRSNNOT_6', 0.0012791289772259499),\n",
       " ('WRKRSNJOB_9', 0.0012804633380499282),\n",
       " ('WRKSTATWK2_8', 0.0012968732239014671),\n",
       " ('NOBOOKY2_2', 0.0013069652990285458),\n",
       " ('SNFAMJEV_4', 0.0013331057147723169),\n",
       " ('WRKRSNNOT_5', 0.0014030100053644761),\n",
       " ('PAROLREL_1', 0.0015982806707840629),\n",
       " ('WRKRSNJOB_2', 0.001679498336721252),\n",
       " ('SPEAKENGL_3', 0.0017395192237360262),\n",
       " ('NOBOOKY2_4', 0.001818063219642766),\n",
       " ('WRKSTATWK2_5', 0.0020599389630029689),\n",
       " ('HEALTH_5', 0.0021061392271866665),\n",
       " ('WRKRSNJOB_6', 0.0021263505576164248),\n",
       " ('IRMARITSTAT_2', 0.0021988569218531259),\n",
       " ('HLCLAST_5', 0.002249925093842755),\n",
       " ('WRKRSNNOT_1', 0.0024333937291339067),\n",
       " ('WRKRSNNOT_7', 0.002569831966602475),\n",
       " ('WRKRSNJOB_3', 0.0026719148041764685),\n",
       " ('WRKSTATWK2_6', 0.0026773661293624973),\n",
       " ('SERVICE_3', 0.0026804511946621787),\n",
       " ('WRKRSNJOB_7', 0.0028061017549860074),\n",
       " ('HLCLAST_2', 0.0028934768283005261),\n",
       " ('MEDICARE_2', 0.0032492332693965847),\n",
       " ('WRKSTATWK2_7', 0.003411649031921322),\n",
       " ('WRKRSNJOB_4', 0.0034455693939419245),\n",
       " ('HLCLAST_1', 0.0034479950918930679),\n",
       " ('NOBOOKY2_1', 0.00364524469722353),\n",
       " ('HLCLAST_3', 0.0039152900484596565),\n",
       " ('WRKSTATWK2_3', 0.0041754912232008891),\n",
       " ('HLCLAST_4', 0.0042593873622033991),\n",
       " ('SERVICE_1', 0.0043693344401993959),\n",
       " ('WRKRSNJOB_8', 0.0044478284684090303),\n",
       " ('EDUFULPRT_2', 0.0045703878492730351),\n",
       " ('IRPINC3_7', 0.0046823752309760073),\n",
       " ('SNRLGSVC_6', 0.0047496852104261106),\n",
       " ('IRMARITSTAT_3', 0.0049759124476043857),\n",
       " ('WRKSTATWK2_4', 0.0051580045942333144),\n",
       " ('WRKSTATWK2_9', 0.0056319140653995296),\n",
       " ('RKFQRSKY_4', 0.0056819902392771923),\n",
       " ('WRKRSNJOB_1', 0.0057981581289362457),\n",
       " ('IRPINC3_5', 0.0058113170463301974),\n",
       " ('IRPINC3_6', 0.0060637445856946788),\n",
       " ('SNRLGSVC_5', 0.006219527686681001),\n",
       " ('SNFAMJEV_2', 0.006360270125845024),\n",
       " ('EDUFULPRT_1', 0.006536545313965649),\n",
       " ('IRPINC3_4', 0.0065555052458655654),\n",
       " ('SPEAKENGL_2', 0.006592108589311271),\n",
       " ('SNRLGSVC_3', 0.0069767761466718939),\n",
       " ('HEALTH_4', 0.006995133843371487),\n",
       " ('IRPINC3_3', 0.007522243455963749),\n",
       " ('SNRLGSVC_4', 0.0076699052478968917),\n",
       " ('SNRLGSVC_2', 0.0077619729272801422),\n",
       " ('EDUENROLL_2', 0.0078421078455020807),\n",
       " ('INHOSPYR_1', 0.0079916279509415263),\n",
       " ('IRFAMIN3_2', 0.0083016715107563453),\n",
       " ('IRFAMIN3_3', 0.0088292685496082352),\n",
       " ('IRFAMIN3_4', 0.0089928329439092052),\n",
       " ('DIFFTHINK_2', 0.009350675057595341),\n",
       " ('IRFAMIN3_5', 0.0093746559503252655),\n",
       " ('SMKLSS30N', 0.0094939675818598041),\n",
       " ('IRPINC3_2', 0.0095424090348929964),\n",
       " ('WRKSTATWK2_2', 0.01070593123853813),\n",
       " ('IRFAMIN3_6', 0.010899028637589889),\n",
       " ('CAIDCHIP_2', 0.010955401630232437),\n",
       " ('SNRLGSVC_1', 0.011604129125253543),\n",
       " ('IRFAMIN3_7', 0.012148130265971831),\n",
       " ('PRVHLTIN_2', 0.012298477684671218),\n",
       " ('COUTYP2_3', 0.012883018877222782),\n",
       " ('HEALTH_3', 0.013123685631781139),\n",
       " ('RKFQRSKY_3', 0.013539109610522185),\n",
       " ('RKFQRSKY_2', 0.014989027228205127),\n",
       " ('HEALTH_2', 0.015620895572032022),\n",
       " ('COUTYP2_2', 0.016102852655528351),\n",
       " ('SNFAMJEV_3', 0.016243183615998729),\n",
       " ('IRSEX', 0.016269736631740115),\n",
       " ('BOOKED_1', 0.016847376015847591),\n",
       " ('MARIEDNUM2', 0.018426850353323733),\n",
       " ('SNFAMJEV_1', 0.022892728772749418),\n",
       " ('IRMARITSTAT_4', 0.023679633679937476),\n",
       " ('MOVSINPYR2', 0.025844680734998689),\n",
       " ('IMPYDAYS', 0.032868156531317229),\n",
       " ('ALCREC', 0.034731841682552937),\n",
       " ('AGE2', 0.071935567779554094),\n",
       " ('CIG30USE', 0.073409229123482161),\n",
       " ('ALCBNG30D', 0.08064762622597775),\n",
       " ('WTPOUND2', 0.11140267146870585)]"
      ]
     },
     "execution_count": 71,
     "metadata": {},
     "output_type": "execute_result"
    }
   ],
   "source": [
    "zipped = list(zip(X.columns, rf_best.feature_importances_))\n",
    "zipped.sort(key = lambda t: t[1])\n",
    "zipped"
   ]
  },
  {
   "cell_type": "code",
   "execution_count": 72,
   "metadata": {
    "collapsed": true
   },
   "outputs": [],
   "source": [
    "# drop the bottom 25% of the features (27 of 109)\n",
    "unimportant = [x[0] for x in zipped]\n",
    "unimportant = unimportant[:28]\n",
    "X_dropped = X.drop(unimportant, axis=1)"
   ]
  },
  {
   "cell_type": "code",
   "execution_count": 141,
   "metadata": {
    "collapsed": true
   },
   "outputs": [],
   "source": [
    "pickle.dump(X_dropped, open(\"X_dropped.pickle\", \"wb\"))"
   ]
  },
  {
   "cell_type": "markdown",
   "metadata": {},
   "source": [
    "Get our train/test split:"
   ]
  },
  {
   "cell_type": "code",
   "execution_count": 74,
   "metadata": {
    "collapsed": true
   },
   "outputs": [],
   "source": [
    "X_train, X_test, y_train, y_test = model_selection.train_test_split(X_dropped, y, test_size=0.20, random_state=42)"
   ]
  },
  {
   "cell_type": "markdown",
   "metadata": {},
   "source": [
    "Baseline random forest model with dropped features:"
   ]
  },
  {
   "cell_type": "code",
   "execution_count": 75,
   "metadata": {},
   "outputs": [
    {
     "name": "stdout",
     "output_type": "stream",
     "text": [
      "[[41650  3177]\n",
      " [ 6867  5452]]\n",
      "0.520527019286\n",
      "0.824239666818\n"
     ]
    }
   ],
   "source": [
    "rf = RandomForestClassifier(n_estimators=150, criterion='gini', max_features=50)\n",
    "rf_predict = model_selection.cross_val_predict(rf, X_dropped, y, cv=cross_validator, n_jobs=-1)\n",
    "print(metrics.confusion_matrix(y, rf_predict))\n",
    "print(metrics.f1_score(y, rf_predict))\n",
    "print(metrics.accuracy_score(y, rf_predict))"
   ]
  },
  {
   "cell_type": "markdown",
   "metadata": {},
   "source": [
    "Now let's compare against a gradient booster:"
   ]
  },
  {
   "cell_type": "code",
   "execution_count": 76,
   "metadata": {
    "collapsed": true
   },
   "outputs": [],
   "source": [
    "gb = GradientBoostingClassifier()"
   ]
  },
  {
   "cell_type": "code",
   "execution_count": 77,
   "metadata": {
    "collapsed": true
   },
   "outputs": [],
   "source": [
    "gb_grid = model_selection.GridSearchCV(gb, param_grid={'learning_rate': [0.01, 0.05, 0.10],\n",
    "                                                       'n_estimators': [100, 150, 200]},\n",
    "                                       cv=cross_validator, scoring='f1', n_jobs=-1)"
   ]
  },
  {
   "cell_type": "code",
   "execution_count": 78,
   "metadata": {},
   "outputs": [
    {
     "data": {
      "text/plain": [
       "GridSearchCV(cv=KFold(n_splits=5, random_state=42, shuffle=True),\n",
       "       error_score='raise',\n",
       "       estimator=GradientBoostingClassifier(criterion='friedman_mse', init=None,\n",
       "              learning_rate=0.1, loss='deviance', max_depth=3,\n",
       "              max_features=None, max_leaf_nodes=None,\n",
       "              min_impurity_split=1e-07, min_samples_leaf=1,\n",
       "              min_samples_split=2, min_weight_fraction_leaf=0.0,\n",
       "              n_estimators=100, presort='auto', random_state=None,\n",
       "              subsample=1.0, verbose=0, warm_start=False),\n",
       "       fit_params={}, iid=True, n_jobs=-1,\n",
       "       param_grid={'learning_rate': [0.01, 0.05, 0.1], 'n_estimators': [100, 150, 200]},\n",
       "       pre_dispatch='2*n_jobs', refit=True, return_train_score=True,\n",
       "       scoring='f1', verbose=0)"
      ]
     },
     "execution_count": 78,
     "metadata": {},
     "output_type": "execute_result"
    }
   ],
   "source": [
    "gb_grid.fit(X_dropped, y)"
   ]
  },
  {
   "cell_type": "code",
   "execution_count": 79,
   "metadata": {},
   "outputs": [
    {
     "name": "stdout",
     "output_type": "stream",
     "text": [
      "{'learning_rate': 0.1, 'n_estimators': 200}\n",
      "0.532383687861\n"
     ]
    }
   ],
   "source": [
    "print(gb_grid.best_params_)\n",
    "print(gb_grid.best_score_)\n",
    "gb_best = gb_grid.best_estimator_"
   ]
  },
  {
   "cell_type": "code",
   "execution_count": 80,
   "metadata": {
    "collapsed": true
   },
   "outputs": [],
   "source": [
    "# since the best n_estimators and learning_rate were at the top of our range, \n",
    "# re-run GridSearchCV with higher values to see if that improves our model score\n",
    "gb_grid_2 = model_selection.GridSearchCV(gb, param_grid={'learning_rate': [0.10, 0.15, 0.20],\n",
    "                                                         'n_estimators': [200, 250, 300]},\n",
    "                                        cv=cross_validator, scoring='f1', n_jobs=-1)"
   ]
  },
  {
   "cell_type": "code",
   "execution_count": 81,
   "metadata": {},
   "outputs": [
    {
     "data": {
      "text/plain": [
       "GridSearchCV(cv=KFold(n_splits=5, random_state=42, shuffle=True),\n",
       "       error_score='raise',\n",
       "       estimator=GradientBoostingClassifier(criterion='friedman_mse', init=None,\n",
       "              learning_rate=0.1, loss='deviance', max_depth=3,\n",
       "              max_features=None, max_leaf_nodes=None,\n",
       "              min_impurity_split=1e-07, min_samples_leaf=1,\n",
       "              min_samples_split=2, min_weight_fraction_leaf=0.0,\n",
       "              n_estimators=100, presort='auto', random_state=None,\n",
       "              subsample=1.0, verbose=0, warm_start=False),\n",
       "       fit_params={}, iid=True, n_jobs=-1,\n",
       "       param_grid={'learning_rate': [0.1, 0.15, 0.2], 'n_estimators': [200, 250, 300]},\n",
       "       pre_dispatch='2*n_jobs', refit=True, return_train_score=True,\n",
       "       scoring='f1', verbose=0)"
      ]
     },
     "execution_count": 81,
     "metadata": {},
     "output_type": "execute_result"
    }
   ],
   "source": [
    "gb_grid_2.fit(X_dropped, y)"
   ]
  },
  {
   "cell_type": "code",
   "execution_count": 82,
   "metadata": {},
   "outputs": [
    {
     "name": "stdout",
     "output_type": "stream",
     "text": [
      "{'learning_rate': 0.2, 'n_estimators': 250}\n",
      "0.535557745923\n"
     ]
    }
   ],
   "source": [
    "print(gb_grid_2.best_params_)\n",
    "print(gb_grid_2.best_score_)\n",
    "gb_best = gb_grid_2.best_estimator_"
   ]
  },
  {
   "cell_type": "code",
   "execution_count": 83,
   "metadata": {
    "collapsed": true
   },
   "outputs": [],
   "source": [
    "# since the best learning_rate was at the top of our range, \n",
    "# re-run GridSearchCV with higher values to see if that improves our model score\n",
    "gb = GradientBoostingClassifier(n_estimators=250)\n",
    "gb_grid_3 = model_selection.GridSearchCV(gb, param_grid={'learning_rate': [0.20, 0.25, 0.30]},\n",
    "                                        cv=cross_validator, scoring='f1', n_jobs=-1)"
   ]
  },
  {
   "cell_type": "code",
   "execution_count": 84,
   "metadata": {},
   "outputs": [
    {
     "data": {
      "text/plain": [
       "GridSearchCV(cv=KFold(n_splits=5, random_state=42, shuffle=True),\n",
       "       error_score='raise',\n",
       "       estimator=GradientBoostingClassifier(criterion='friedman_mse', init=None,\n",
       "              learning_rate=0.1, loss='deviance', max_depth=3,\n",
       "              max_features=None, max_leaf_nodes=None,\n",
       "              min_impurity_split=1e-07, min_samples_leaf=1,\n",
       "              min_samples_split=2, min_weight_fraction_leaf=0.0,\n",
       "              n_estimators=250, presort='auto', random_state=None,\n",
       "              subsample=1.0, verbose=0, warm_start=False),\n",
       "       fit_params={}, iid=True, n_jobs=-1,\n",
       "       param_grid={'learning_rate': [0.2, 0.25, 0.3]},\n",
       "       pre_dispatch='2*n_jobs', refit=True, return_train_score=True,\n",
       "       scoring='f1', verbose=0)"
      ]
     },
     "execution_count": 84,
     "metadata": {},
     "output_type": "execute_result"
    }
   ],
   "source": [
    "gb_grid_3.fit(X_dropped, y)"
   ]
  },
  {
   "cell_type": "code",
   "execution_count": 85,
   "metadata": {},
   "outputs": [
    {
     "name": "stdout",
     "output_type": "stream",
     "text": [
      "{'learning_rate': 0.25}\n",
      "0.535505772154\n"
     ]
    }
   ],
   "source": [
    "print(gb_grid_3.best_params_)\n",
    "print(gb_grid_3.best_score_)\n",
    "gb_best = gb_grid_3.best_estimator_"
   ]
  },
  {
   "cell_type": "code",
   "execution_count": 86,
   "metadata": {},
   "outputs": [
    {
     "name": "stdout",
     "output_type": "stream",
     "text": [
      "[[41985  2842]\n",
      " [ 6776  5543]]\n",
      "0.535452086553\n",
      "0.831694256816\n"
     ]
    }
   ],
   "source": [
    "gb = GradientBoostingClassifier(n_estimators=250, learning_rate=0.20)\n",
    "gb_predict = model_selection.cross_val_predict(gb, X_dropped, y, cv=cross_validator, n_jobs=-1)\n",
    "print(metrics.confusion_matrix(y, gb_predict))\n",
    "print(metrics.f1_score(y, gb_predict))\n",
    "print(metrics.accuracy_score(y, gb_predict))"
   ]
  },
  {
   "cell_type": "markdown",
   "metadata": {
    "collapsed": true
   },
   "source": [
    "Now let's compare against a logistic regression:"
   ]
  },
  {
   "cell_type": "code",
   "execution_count": 87,
   "metadata": {
    "collapsed": true
   },
   "outputs": [],
   "source": [
    "lr = LogisticRegression()"
   ]
  },
  {
   "cell_type": "code",
   "execution_count": 88,
   "metadata": {
    "collapsed": true
   },
   "outputs": [],
   "source": [
    "lr_grid = model_selection.GridSearchCV(lr, param_grid={'penalty': ['l1', 'l2'],\n",
    "                                                       'C': [0.0001, 0.001, 0.01, 0.1, 1, 1.5, 2],\n",
    "                                                       'class_weight': [None, 'balanced']},\n",
    "                                       cv=cross_validator, scoring='f1', n_jobs=-1)"
   ]
  },
  {
   "cell_type": "code",
   "execution_count": 89,
   "metadata": {},
   "outputs": [
    {
     "data": {
      "text/plain": [
       "GridSearchCV(cv=KFold(n_splits=5, random_state=42, shuffle=True),\n",
       "       error_score='raise',\n",
       "       estimator=LogisticRegression(C=1.0, class_weight=None, dual=False, fit_intercept=True,\n",
       "          intercept_scaling=1, max_iter=100, multi_class='ovr', n_jobs=1,\n",
       "          penalty='l2', random_state=None, solver='liblinear', tol=0.0001,\n",
       "          verbose=0, warm_start=False),\n",
       "       fit_params={}, iid=True, n_jobs=-1,\n",
       "       param_grid={'class_weight': [None, 'balanced'], 'penalty': ['l1', 'l2'], 'C': [0.0001, 0.001, 0.01, 0.1, 1, 1.5, 2]},\n",
       "       pre_dispatch='2*n_jobs', refit=True, return_train_score=True,\n",
       "       scoring='f1', verbose=0)"
      ]
     },
     "execution_count": 89,
     "metadata": {},
     "output_type": "execute_result"
    }
   ],
   "source": [
    "lr_grid.fit(X_dropped, y)"
   ]
  },
  {
   "cell_type": "code",
   "execution_count": 90,
   "metadata": {
    "scrolled": false
   },
   "outputs": [
    {
     "name": "stdout",
     "output_type": "stream",
     "text": [
      "{'class_weight': 'balanced', 'penalty': 'l2', 'C': 2}\n",
      "0.585285639766\n"
     ]
    }
   ],
   "source": [
    "print(lr_grid.best_params_)\n",
    "print(lr_grid.best_score_)\n",
    "lr_best = lr_grid.best_estimator_"
   ]
  },
  {
   "cell_type": "code",
   "execution_count": 91,
   "metadata": {
    "collapsed": true
   },
   "outputs": [],
   "source": [
    "# since the best C was at the top of our range, \n",
    "# re-run GridSearchCV with higher values to see if that improves our model score\n",
    "lr = LogisticRegression(class_weight='balanced', penalty='l2')\n",
    "lr_grid_2 = model_selection.GridSearchCV(lr, param_grid={'C': [2, 2.5, 3, 3.5]},\n",
    "                                       cv=cross_validator, scoring='f1', n_jobs=-1)"
   ]
  },
  {
   "cell_type": "code",
   "execution_count": 92,
   "metadata": {},
   "outputs": [
    {
     "data": {
      "text/plain": [
       "GridSearchCV(cv=KFold(n_splits=5, random_state=42, shuffle=True),\n",
       "       error_score='raise',\n",
       "       estimator=LogisticRegression(C=1.0, class_weight='balanced', dual=False,\n",
       "          fit_intercept=True, intercept_scaling=1, max_iter=100,\n",
       "          multi_class='ovr', n_jobs=1, penalty='l2', random_state=None,\n",
       "          solver='liblinear', tol=0.0001, verbose=0, warm_start=False),\n",
       "       fit_params={}, iid=True, n_jobs=-1,\n",
       "       param_grid={'C': [2, 2.5, 3, 3.5]}, pre_dispatch='2*n_jobs',\n",
       "       refit=True, return_train_score=True, scoring='f1', verbose=0)"
      ]
     },
     "execution_count": 92,
     "metadata": {},
     "output_type": "execute_result"
    }
   ],
   "source": [
    "lr_grid_2.fit(X_dropped, y)"
   ]
  },
  {
   "cell_type": "code",
   "execution_count": 93,
   "metadata": {},
   "outputs": [
    {
     "name": "stdout",
     "output_type": "stream",
     "text": [
      "{'C': 3}\n",
      "0.585357420774\n"
     ]
    }
   ],
   "source": [
    "print(lr_grid_2.best_params_)\n",
    "print(lr_grid_2.best_score_)\n",
    "lr_best = lr_grid_2.best_estimator_"
   ]
  },
  {
   "cell_type": "code",
   "execution_count": 94,
   "metadata": {},
   "outputs": [
    {
     "name": "stdout",
     "output_type": "stream",
     "text": [
      "[[33668 11159]\n",
      " [ 2604  9715]]\n",
      "0.585364384057\n",
      "0.759160746159\n"
     ]
    }
   ],
   "source": [
    "lr = LogisticRegression(class_weight='balanced', penalty='l2', C=3)\n",
    "lr_predict = model_selection.cross_val_predict(lr, X_dropped, y, cv=cross_validator, n_jobs=-1)\n",
    "print(metrics.confusion_matrix(y, lr_predict))\n",
    "print(metrics.f1_score(y, lr_predict))\n",
    "print(metrics.accuracy_score(y, lr_predict))"
   ]
  },
  {
   "cell_type": "markdown",
   "metadata": {},
   "source": [
    "Now let's compare against a KNN classifer:"
   ]
  },
  {
   "cell_type": "code",
   "execution_count": 95,
   "metadata": {
    "collapsed": true
   },
   "outputs": [],
   "source": [
    "knn = KNeighborsClassifier()"
   ]
  },
  {
   "cell_type": "code",
   "execution_count": 96,
   "metadata": {
    "collapsed": true
   },
   "outputs": [],
   "source": [
    "knn_grid = model_selection.GridSearchCV(knn, param_grid={'p': [1, 2],\n",
    "                                                         'n_neighbors': [5, 10, 15],\n",
    "                                                         'weights': ['uniform', 'distance']}, \n",
    "                                        cv=cross_validator, scoring='f1', n_jobs=-1)"
   ]
  },
  {
   "cell_type": "code",
   "execution_count": 97,
   "metadata": {},
   "outputs": [
    {
     "data": {
      "text/plain": [
       "GridSearchCV(cv=KFold(n_splits=5, random_state=42, shuffle=True),\n",
       "       error_score='raise',\n",
       "       estimator=KNeighborsClassifier(algorithm='auto', leaf_size=30, metric='minkowski',\n",
       "           metric_params=None, n_jobs=1, n_neighbors=5, p=2,\n",
       "           weights='uniform'),\n",
       "       fit_params={}, iid=True, n_jobs=-1,\n",
       "       param_grid={'n_neighbors': [5, 10, 15], 'p': [1, 2], 'weights': ['uniform', 'distance']},\n",
       "       pre_dispatch='2*n_jobs', refit=True, return_train_score=True,\n",
       "       scoring='f1', verbose=0)"
      ]
     },
     "execution_count": 97,
     "metadata": {},
     "output_type": "execute_result"
    }
   ],
   "source": [
    "knn_grid.fit(X_dropped, y)"
   ]
  },
  {
   "cell_type": "code",
   "execution_count": 98,
   "metadata": {
    "scrolled": true
   },
   "outputs": [
    {
     "name": "stdout",
     "output_type": "stream",
     "text": [
      "{'n_neighbors': 5, 'p': 2, 'weights': 'distance'}\n",
      "0.408224446386\n"
     ]
    }
   ],
   "source": [
    "print(knn_grid.best_params_)\n",
    "print(knn_grid.best_score_)\n",
    "knn_best = knn_grid.best_estimator_"
   ]
  },
  {
   "cell_type": "code",
   "execution_count": 109,
   "metadata": {
    "collapsed": true
   },
   "outputs": [],
   "source": [
    "knn = KNeighborsClassifier(weights='distance', n_neighbors=5, p=2)\n",
    "knn_predict = model_selection.cross_val_predict(knn, X_dropped, y, cv=cross_validator, n_jobs=-1)"
   ]
  },
  {
   "cell_type": "markdown",
   "metadata": {},
   "source": [
    "KNN score is so far below the other options we've explored so far there is no point in exploring it further. Let's move on to LinearSVC as our last model to explore:"
   ]
  },
  {
   "cell_type": "code",
   "execution_count": 100,
   "metadata": {
    "collapsed": true
   },
   "outputs": [],
   "source": [
    "linear_SVC = svm.LinearSVC()"
   ]
  },
  {
   "cell_type": "code",
   "execution_count": 101,
   "metadata": {
    "collapsed": true
   },
   "outputs": [],
   "source": [
    "SVC_grid = model_selection.GridSearchCV(linear_SVC, param_grid={'loss': ['hinge', 'squared_hinge'],\n",
    "                                                         'C': [0.01, 0.1, 1, 2]}, \n",
    "                                        cv=cross_validator, scoring='f1', n_jobs=-1)"
   ]
  },
  {
   "cell_type": "code",
   "execution_count": 102,
   "metadata": {},
   "outputs": [
    {
     "data": {
      "text/plain": [
       "GridSearchCV(cv=KFold(n_splits=5, random_state=42, shuffle=True),\n",
       "       error_score='raise',\n",
       "       estimator=LinearSVC(C=1.0, class_weight=None, dual=True, fit_intercept=True,\n",
       "     intercept_scaling=1, loss='squared_hinge', max_iter=1000,\n",
       "     multi_class='ovr', penalty='l2', random_state=None, tol=0.0001,\n",
       "     verbose=0),\n",
       "       fit_params={}, iid=True, n_jobs=-1,\n",
       "       param_grid={'C': [0.01, 0.1, 1, 2], 'loss': ['hinge', 'squared_hinge']},\n",
       "       pre_dispatch='2*n_jobs', refit=True, return_train_score=True,\n",
       "       scoring='f1', verbose=0)"
      ]
     },
     "execution_count": 102,
     "metadata": {},
     "output_type": "execute_result"
    }
   ],
   "source": [
    "SVC_grid.fit(X_dropped, y)"
   ]
  },
  {
   "cell_type": "code",
   "execution_count": 103,
   "metadata": {},
   "outputs": [
    {
     "name": "stdout",
     "output_type": "stream",
     "text": [
      "{'loss': 'squared_hinge', 'C': 0.01}\n",
      "0.485499809523\n"
     ]
    }
   ],
   "source": [
    "print(SVC_grid.best_params_)\n",
    "print(SVC_grid.best_score_)\n",
    "SVC_best = SVC_grid.best_estimator_"
   ]
  },
  {
   "cell_type": "code",
   "execution_count": 104,
   "metadata": {
    "collapsed": true
   },
   "outputs": [],
   "source": [
    "svc = svm.LinearSVC(C=0.1, loss='squared_hinge')"
   ]
  },
  {
   "cell_type": "markdown",
   "metadata": {},
   "source": [
    "Linear SVC also looks like it won't be as good as some of the other models we've run. So let's put all of the models created so far into a nice little ROC graph. Logistic regression had the highest f1 score, so we'll then adjust the trheshold to get the desired balance between precision and recall."
   ]
  },
  {
   "cell_type": "code",
   "execution_count": 105,
   "metadata": {
    "collapsed": true
   },
   "outputs": [],
   "source": [
    "rf.fit(X_train, y_train)\n",
    "rf_probs = rf.predict_proba(X_test)\n",
    "gb.fit(X_train, y_train)\n",
    "gb_probs = gb.predict_proba(X_test)\n",
    "lr.fit(X_train, y_train)\n",
    "lr_probs = lr.predict_proba(X_test)"
   ]
  },
  {
   "cell_type": "code",
   "execution_count": 106,
   "metadata": {
    "collapsed": true
   },
   "outputs": [],
   "source": [
    "knn.fit(X_train, y_train)\n",
    "knn_probs = knn.predict_proba(X_test)"
   ]
  },
  {
   "cell_type": "code",
   "execution_count": 107,
   "metadata": {},
   "outputs": [
    {
     "data": {
      "image/png": "[encoded data removed]",
      "text/plain": [
       "<matplotlib.figure.Figure at 0x7ff5f84fe7b8>"
      ]
     },
     "metadata": {},
     "output_type": "display_data"
    }
   ],
   "source": [
    "plt.figure(figsize=(11,6))\n",
    "gb_fpr, gb_tpr, gb_thresholds = metrics.roc_curve(y_test, gb_probs[:,1])\n",
    "plt.plot(gb_fpr, gb_tpr, label='Gradient Boosting')\n",
    "rf_fpr, rf_tpr, rf_thresholds = metrics.roc_curve(y_test, rf_probs[:,1])\n",
    "plt.plot(rf_fpr, rf_tpr, label='Random Forest')\n",
    "lr_fpr, lr_tpr, lr_thresholds = metrics.roc_curve(y_test, lr_probs[:,1])\n",
    "plt.plot(lr_fpr, lr_tpr, label='Logistic Regression')\n",
    "knn_fpr, knn_tpr, knn_thresholds = metrics.roc_curve(y_test, knn_probs[:,1])\n",
    "plt.plot(knn_fpr, knn_tpr, label='KNN')\n",
    "plt.plot(np.arange(0,1.1,0.1), np.arange(0,1.1,0.1), label='Baseline', linestyle='--')\n",
    "plt.legend();"
   ]
  },
  {
   "cell_type": "code",
   "execution_count": 111,
   "metadata": {},
   "outputs": [
    {
     "name": "stdout",
     "output_type": "stream",
     "text": [
      "GB  0.693278031456\n",
      "RF  0.685847962518\n",
      "LR  0.769842206171\n",
      "KNN 0.625767913054\n"
     ]
    }
   ],
   "source": [
    "print('GB ', metrics.roc_auc_score(y, gb_predict))\n",
    "print('RF ', metrics.roc_auc_score(y, rf_predict))\n",
    "print('LR ', metrics.roc_auc_score(y, lr_predict))\n",
    "print('KNN', metrics.roc_auc_score(y, knn_predict))"
   ]
  },
  {
   "cell_type": "markdown",
   "metadata": {
    "collapsed": true
   },
   "source": [
    "### Logistic Regression clearly dominates based on a cross-validated ROC-AUC score, so we will select this model as our main classification model."
   ]
  },
  {
   "cell_type": "code",
   "execution_count": 144,
   "metadata": {},
   "outputs": [
    {
     "name": "stdout",
     "output_type": "stream",
     "text": [
      "[[33668 11159]\n",
      " [ 2604  9715]]\n",
      "F1:       0.585364384057\n",
      "Accuracy: 0.759160746159\n",
      "ROC-AUC:  0.769842206171\n"
     ]
    }
   ],
   "source": [
    "print(metrics.confusion_matrix(y, lr_predict))\n",
    "print('F1:      ', metrics.f1_score(y, lr_predict))\n",
    "print('Accuracy:', metrics.accuracy_score(y, lr_predict))\n",
    "print('ROC-AUC: ', metrics.roc_auc_score(y, lr_predict))"
   ]
  },
  {
   "cell_type": "markdown",
   "metadata": {},
   "source": [
    "Let's compare against our baseline:"
   ]
  },
  {
   "cell_type": "code",
   "execution_count": 148,
   "metadata": {},
   "outputs": [
    {
     "data": {
      "text/plain": [
       "0.78442935638539879"
      ]
     },
     "execution_count": 148,
     "metadata": {},
     "output_type": "execute_result"
    }
   ],
   "source": [
    "y.value_counts()[0] / y.shape[0]"
   ]
  },
  {
   "cell_type": "markdown",
   "metadata": {},
   "source": [
    "So our best classification model has a worse accuracy than a baseline prediction."
   ]
  }
 ],
 "metadata": {
  "kernelspec": {
   "display_name": "Python 3",
   "language": "python",
   "name": "python3"
  },
  "language_info": {
   "codemirror_mode": {
    "name": "ipython",
    "version": 3
   },
   "file_extension": ".py",
   "mimetype": "text/x-python",
   "name": "python",
   "nbconvert_exporter": "python",
   "pygments_lexer": "ipython3",
   "version": "3.5.2"
  }
 },
 "nbformat": 4,
 "nbformat_minor": 2
}
